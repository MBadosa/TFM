{
 "cells": [
  {
   "cell_type": "markdown",
   "id": "0b044ccc-e66e-4fa9-80ec-87603961a190",
   "metadata": {},
   "source": [
    "## This jupyter notebooks loads the joined pointclouds and reconstruct the items both using Poisson surface reconstruction algorithm and ball pivoting algorithm"
   ]
  },
  {
   "cell_type": "code",
   "execution_count": null,
   "id": "adcc1753-aa65-4c86-a9e5-545638920d04",
   "metadata": {
    "tags": []
   },
   "outputs": [],
   "source": [
    "import numpy as np\n",
    "import matplotlib.pyplot as plt\n",
    "import open3d as o3d\n",
    "import trimesh"
   ]
  },
  {
   "cell_type": "markdown",
   "id": "70483710-cb18-4223-ab44-5b06dadad391",
   "metadata": {},
   "source": [
    "### Auxiliar functions\n",
    "This block contains functions to perform the whole operation"
   ]
  },
  {
   "cell_type": "code",
   "execution_count": null,
   "id": "39ba34fb-ef54-4908-96d2-b70786bbe708",
   "metadata": {
    "tags": []
   },
   "outputs": [],
   "source": [
    "def nearest_neighbor_distance(set1, set2):\n",
    "        \"\"\"\n",
    "        For each point in set1, find the distance to its nearest neighbor in set2.\n",
    "        \"\"\"\n",
    "        num_points = set1.shape[0]\n",
    "        nearest_distances = np.zeros(num_points)\n",
    "\n",
    "        for i in range(num_points):\n",
    "            distances = np.linalg.norm(set2 - set1[i], axis=1)\n",
    "            nearest_distances[i] = np.min(distances)\n",
    "\n",
    "        return nearest_distances\n",
    "    \n",
    "def compute_chamfer_distance(pc1, pc2):\n",
    "    \"\"\"\n",
    "    Compute the Chamfer Distance between two point clouds.\n",
    "\n",
    "    Args:\n",
    "    pc1 (numpy.ndarray): First point cloud (Nx3 array).\n",
    "    pc2 (numpy.ndarray): Second point cloud (Mx3 array).\n",
    "\n",
    "    Returns:\n",
    "    float: The Chamfer Distance between the two point clouds.\n",
    "    \"\"\"\n",
    "    \n",
    "    # Compute nearest neighbor distances for each direction\n",
    "    distances1 = nearest_neighbor_distance(pc1, pc2)\n",
    "    distances2 = nearest_neighbor_distance(pc2, pc1)\n",
    "\n",
    "    # Compute the Chamfer Distance\n",
    "    chamfer_distance = np.mean(distances1) + np.mean(distances2)\n",
    "\n",
    "    return chamfer_distance\n",
    "\n",
    "def bounding_boxes_intersect(mesh1, mesh2):\n",
    "    \"\"\"\n",
    "    Check if the bounding boxes of two trimesh objects intersect.\n",
    "\n",
    "    Args:\n",
    "    mesh1, mesh2 (trimesh.Trimesh): Trimesh objects to check for intersection.\n",
    "\n",
    "    Returns:\n",
    "    bool: True if bounding boxes intersect, False otherwise.\n",
    "    \"\"\"\n",
    "    bbox1 = mesh1.bounding_box.bounds\n",
    "    bbox2 = mesh2.bounding_box.bounds\n",
    "\n",
    "    # Check for overlap in all three dimensions\n",
    "    overlap_x = bbox1[0][0] <= bbox2[1][0] and bbox1[1][0] >= bbox2[0][0]\n",
    "    overlap_y = bbox1[0][1] <= bbox2[1][1] and bbox1[1][1] >= bbox2[0][1]\n",
    "    overlap_z = bbox1[0][2] <= bbox2[1][2] and bbox1[1][2] >= bbox2[0][2]\n",
    "\n",
    "    return overlap_x and overlap_y and overlap_z\n",
    "\n",
    "def calculate_iou(mesh1_trimesh, mesh2):\n",
    "    \"\"\"\n",
    "    Calculate the Intersection over Union (IoU) between two 3D mesh objects.\n",
    "\n",
    "    Args:\n",
    "    mesh1 (open3d.geometry.TriangleMesh): First mesh object.\n",
    "    mesh2 (open3d.geometry.TriangleMesh): Second mesh object.\n",
    "\n",
    "    Returns:\n",
    "    float: The IoU value.\n",
    "    \"\"\"\n",
    "\n",
    "    # Convert Open3D meshes to Trimesh objects for boolean operations\n",
    "    mesh2_trimesh = trimesh.Trimesh(np.asarray(mesh2.vertices), np.asarray(mesh2.triangles))\n",
    "    \n",
    "    # Check if the bounding boxes of the two meshes intersect\n",
    "    if not bounding_boxes_intersect(mesh1_trimesh, mesh2_trimesh):\n",
    "        return 0.0\n",
    "\n",
    "    # Compute the intersection and union of the two meshes\n",
    "    intersection_mesh = mesh1_trimesh.intersection(mesh2_trimesh, engine='blender')\n",
    "    union_mesh = mesh1_trimesh.union(mesh2_trimesh, engine='blender')\n",
    "\n",
    "    # Calculate the volume of the intersection and union\n",
    "    intersection_volume = intersection_mesh.volume\n",
    "    union_volume = union_mesh.volume\n",
    "\n",
    "    # Compute IoU\n",
    "    iou = intersection_volume / union_volume\n",
    "\n",
    "    return iou\n",
    "\n",
    "def load_pcd_file(path):\n",
    "    # Load the point cloud from the given file\n",
    "    pcd = o3d.io.read_point_cloud(path)\n",
    "\n",
    "    # Return the point cloud object\n",
    "    return pcd"
   ]
  },
  {
   "cell_type": "markdown",
   "id": "c18233a6-a7b5-4606-a4d8-31fbcd2a26f1",
   "metadata": {},
   "source": [
    "### Ball Pivoting algorithm\n",
    "\n",
    "The ball pivoting algorithm (BPA) is a surface reconstruction method which is related to alpha shapes. Intuitively, think of a 3D ball with a given radius that we drop on the point cloud. If it hits any 3 points (and it does not fall through those 3 points) it creates triangles. Then, the algorithm starts pivoting from the edges of the existing triangles and every time it hits 3 points where the ball does not fall through we create another triangle.\n",
    "\n",
    "**Paper:** https://ieeexplore.ieee.org/document/817351 <br>\n",
    "**Open3d documentation:** https://www.open3d.org/docs/latest/tutorial/Advanced/surface_reconstruction.html#Ball-pivoting"
   ]
  },
  {
   "cell_type": "code",
   "execution_count": null,
   "id": "2b366087-dafa-48da-afdb-753d4ae9f99a",
   "metadata": {
    "tags": []
   },
   "outputs": [],
   "source": [
    "def reconstruct_mesh_bpa(point_cloud, radius = 5, mu=2.5, max_nn=100):\n",
    "    \"\"\"\n",
    "    Reconstruct a 3D mesh from a point cloud using the Ball Pivoting Algorithm.\n",
    "\n",
    "    :param point_cloud: open3d.geometry.PointCloud object, the input point cloud.\n",
    "    :param radius: float, the radius of the ball used in the pivoting algorithm.\n",
    "    :param mu: float, multiplier for the estimated radius (default 2.5).\n",
    "    :param max_nn: int, maximum number of nearest neighbors to consider (default 100).\n",
    "    :return: open3d.geometry.TriangleMesh, the reconstructed mesh.\n",
    "    \"\"\"\n",
    "\n",
    "    # Estimate normals for the point cloud\n",
    "    point_cloud.estimate_normals(search_param=o3d.geometry.KDTreeSearchParamHybrid(radius=radius * mu, max_nn=max_nn))\n",
    "\n",
    "    # Orient the normals (optional but recommended for better mesh quality)\n",
    "    point_cloud.orient_normals_consistent_tangent_plane(k=50)\n",
    "\n",
    "    # Reconstruct the mesh using Ball Pivoting Algorithm\n",
    "    mesh = o3d.geometry.TriangleMesh.create_from_point_cloud_ball_pivoting(\n",
    "        point_cloud,\n",
    "        o3d.utility.DoubleVector([radius, radius * 2, radius * 4])\n",
    "    )\n",
    "\n",
    "    return mesh"
   ]
  },
  {
   "cell_type": "markdown",
   "id": "a7cb3713-de83-4d1c-a0d3-c0beb56bc5d7",
   "metadata": {},
   "source": [
    "### Poisson surface reconstruction\n",
    "\n",
    "The Poisson surface reconstruction method solves a regularized optimization problem to obtain a smooth surface. This method produces  non-smooth results since the points of the Point Cloud are also the vertices of the resulting triangle mesh without any modifications.\n",
    "\n",
    "**Paper:** https://hhoppe.com/poissonrecon.pdf <br>\n",
    "**Open3d documentation:** https://www.open3d.org/docs/latest/tutorial/Advanced/surface_reconstruction.html#Poisson-surface-reconstruction"
   ]
  },
  {
   "cell_type": "code",
   "execution_count": null,
   "id": "ea90eb04-ec9e-4267-9299-5f7458a5f9bd",
   "metadata": {
    "tags": []
   },
   "outputs": [],
   "source": [
    "def reconstruct_mesh_psr(point_cloud):\n",
    "    \"\"\"\n",
    "    Reconstruct a 3D mesh from a point cloud using the Poisson surface reconstruction algorithm.\n",
    "\n",
    "    Args:\n",
    "    point_cloud (open3d.geometry.PointCloud): The input point cloud from which the mesh will be reconstructed.\n",
    "\n",
    "    Returns:\n",
    "    open3d.geometry.TriangleMesh: The reconstructed 3D mesh.\n",
    "    \"\"\"\n",
    "\n",
    "    # Estimate normals for the point cloud. This step is necessary for Poisson reconstruction.\n",
    "    # The parameter 'search_param' can be adjusted depending on the density of your point cloud.\n",
    "    o3d.geometry.PointCloud.estimate_normals(\n",
    "        point_cloud,\n",
    "        search_param=o3d.geometry.KDTreeSearchParamHybrid(radius=0.1, max_nn=30)\n",
    "    )\n",
    "\n",
    "    # Compute the Poisson surface reconstruction. The 'depth' parameter controls the level of detail of the mesh.\n",
    "    # Increasing 'depth' can increase the quality of the mesh but also requires more computation.\n",
    "    poisson_mesh = o3d.geometry.TriangleMesh.create_from_point_cloud_poisson(\n",
    "        point_cloud, depth=9\n",
    "    )\n",
    "\n",
    "    # Return the reconstructed mesh\n",
    "    return poisson_mesh[0]"
   ]
  },
  {
   "cell_type": "markdown",
   "id": "8ed1fa37-5868-402a-91e1-11eef8b76b3a",
   "metadata": {},
   "source": [
    "### Main Code\n",
    "This block contains the main code for the process"
   ]
  },
  {
   "cell_type": "code",
   "execution_count": null,
   "id": "53efc72e-251b-45a0-a9ed-bd28b17bcfcb",
   "metadata": {
    "tags": []
   },
   "outputs": [],
   "source": [
    "\"\"\"\n",
    "Now that we have all the pointclouds loaded into a dictionary, we can go ahead and start reconstructing the 3d models  \n",
    "\n",
    "Dictionary that contains the predicted pointcloud and the ground truth with the following format\n",
    "And another dictionary which contains the reconstructed meshes from the pointclouds\n",
    "Key: Item index\n",
    "Values:[Ground truth, Predicted]\n",
    "\"\"\"\n",
    "pointclouds_dictionary = {}\n",
    "metrics_dictionary = {}\n",
    "for object_index in range(1,31):\n",
    "    print(f\"Analyzing object {str(object_index)}\")\n",
    "    groundtruth_pointcloud = load_pcd_file(f'./groundtruth_pointclouds/{object_index}/merged_cloud.ply')\n",
    "    groundtruth_mesh = trimesh.load(f'./groundtruth_pointclouds/{object_index}/textured.obj')\n",
    "    predicted_pointcloud = load_pcd_file(f'./input_and_reflected/{object_index}/complete_pointcloud.pcd')\n",
    "    \n",
    "    pointclouds_dictionary[object_index] = [groundtruth_pointcloud, predicted_pointcloud]\n",
    "    chamfer_distance = compute_chamfer_distance(np.array(groundtruth_pointcloud.points),np.array(predicted_pointcloud.points))\n",
    "    print(chamfer_distance)\n",
    "    psr_iou = calculate_iou(groundtruth_mesh, reconstruct_mesh_psr(predicted_pointcloud))\n",
    "    bpa_iou = calculate_iou(groundtruth_mesh, reconstruct_mesh_bpa(predicted_pointcloud))\n",
    "    metrics_dictionary[object_index] = [bpa_iou, psr_iou, chamfer_distance]"
   ]
  },
  {
   "cell_type": "code",
   "execution_count": null,
   "id": "d95dad42-5a41-426b-ae33-26266b5314d8",
   "metadata": {
    "tags": []
   },
   "outputs": [],
   "source": [
    "###$ Code to be deleted\n",
    "pointclouds_dictionary = {}\n",
    "metrics_dictionary = {}\n",
    "for object_index in range(1,31):\n",
    "    print(f\"Analyzing object {str(object_index)}\")\n",
    "    groundtruth_pointcloud = load_pcd_file(f'./groundtruth_pointclouds/{object_index}/merged_cloud.ply')\n",
    "    groundtruth_mesh = trimesh.load(f'./groundtruth_pointclouds/{object_index}/textured.obj')\n",
    "    predicted_pointcloud = load_pcd_file(f'./input_and_reflected/{object_index}/complete_pointcloud.pcd')\n",
    "    \n",
    "    pointclouds_dictionary[object_index] = [groundtruth_pointcloud, predicted_pointcloud]\n",
    "\n",
    "    psr_iou = calculate_iou(groundtruth_mesh, reconstruct_mesh_psr(predicted_pointcloud))\n",
    "    bpa_iou = calculate_iou(groundtruth_mesh, reconstruct_mesh_bpa(predicted_pointcloud))\n",
    "    chamfer_distance = compute_chamfer_distance(np.array(groundtruth_pointcloud.points),np.array(predicted_pointcloud.points))\n",
    "    metrics_dictionary[object_index] = [chamfer_distance , psr_iou, bpa_iou]"
   ]
  }
 ],
 "metadata": {
  "kernelspec": {
   "display_name": "Python 3 (ipykernel)",
   "language": "python",
   "name": "python3"
  },
  "language_info": {
   "codemirror_mode": {
    "name": "ipython",
    "version": 3
   },
   "file_extension": ".py",
   "mimetype": "text/x-python",
   "name": "python",
   "nbconvert_exporter": "python",
   "pygments_lexer": "ipython3",
   "version": "3.11.5"
  }
 },
 "nbformat": 4,
 "nbformat_minor": 5
}
